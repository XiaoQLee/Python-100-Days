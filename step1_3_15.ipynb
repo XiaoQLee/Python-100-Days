{
  "nbformat": 4,
  "nbformat_minor": 0,
  "metadata": {
    "kernelspec": {
      "display_name": "Python 3",
      "language": "python",
      "name": "python3"
    },
    "language_info": {
      "codemirror_mode": {
        "name": "ipython",
        "version": 3
      },
      "file_extension": ".py",
      "mimetype": "text/x-python",
      "name": "python",
      "nbconvert_exporter": "python",
      "pygments_lexer": "ipython3",
      "version": "3.7.7"
    },
    "colab": {
      "name": "step1.3_15.ipynb",
      "provenance": [],
      "include_colab_link": true
    }
  },
  "cells": [
    {
      "cell_type": "markdown",
      "metadata": {
        "id": "view-in-github",
        "colab_type": "text"
      },
      "source": [
        "<a href=\"https://colab.research.google.com/github/XiaoQLee/Python-100-Days/blob/master/step1_3_15.ipynb\" target=\"_parent\"><img src=\"https://colab.research.google.com/assets/colab-badge.svg\" alt=\"Open In Colab\"/></a>"
      ]
    },
    {
      "cell_type": "markdown",
      "metadata": {
        "id": "6QkJfnYsmOo8",
        "colab_type": "text"
      },
      "source": [
        "# 資料變數名稱\n",
        "\n",
        "## cor\n",
        "#### 全報酬率清單\n",
        "## _years\n",
        "##### 年份清單\n",
        "## _[年份]\n",
        "##### 起始年份往後5年之整理後月報酬\n",
        "## _[年份]_cor\n",
        "##### 期間的相關係數\n",
        "## _[年份]_firms\n",
        "##### 期間所有可使用之公司清單\n",
        "## _[年份]_[firm]_f\n",
        "##### 期間該公司前f大相關係數公司清單\n",
        "## _[年份]_[firm]\n",
        "##### 期間該公司前f大相關係數公司月報酬\n",
        "##### 其中 [firm]_port 欄位是配對交易報酬\n",
        "____________________以下年份為交易年份_________________\n",
        "## beta\n",
        "##### 公司與基準投組beta\n",
        "## port\n",
        "##### 前f相關公司之等權報酬\n",
        "## retdiff\n",
        "##### 交易期間每月retdiff\n",
        "## fret\n",
        "##### 交易期間所有公司報酬\n",
        "## rf\n",
        "##### 無風險報酬\n"
      ]
    },
    {
      "cell_type": "code",
      "metadata": {
        "id": "1dgLkNCxmOo9",
        "colab_type": "code",
        "colab": {}
      },
      "source": [
        "import numpy as np\n",
        "import pandas as pd\n",
        "import statsmodels.api as sm\n",
        "import time\n",
        "\n",
        "def _index(df): ##建立索引列\n",
        "    df.index = df.date ##以date作為index\n",
        "    df.drop('date', axis = 1, inplace = True)  ##刪除date欄位\n",
        "    df = df/100 ##處理百分比\n",
        "    return df\n",
        "    \n",
        "def _data(df):\n",
        "    df = df.dropna(axis=1, how='any', inplace=False)  ##處離期間空值刪除公司\n",
        "    return df"
      ],
      "execution_count": null,
      "outputs": []
    },
    {
      "cell_type": "code",
      "metadata": {
        "id": "j5lQAHTumOpB",
        "colab_type": "code",
        "colab": {}
      },
      "source": [
        "url = '/Users/XiaoQ/py/data/'\n",
        "cor = _index(pd.read_csv(url+'cor.csv'))    ##輸入、整理檔案"
      ],
      "execution_count": null,
      "outputs": []
    },
    {
      "cell_type": "code",
      "metadata": {
        "id": "hf57EmHVmOpE",
        "colab_type": "code",
        "colab": {}
      },
      "source": [
        "years = [] #建立年份清單\n",
        "for year in range(1990,2020):\n",
        "    years += [str(year)] \n",
        "    \n",
        "beta = pd.DataFrame(index=years[5:], columns = cor.columns)\n",
        "retdiff = pd.DataFrame(index=cor.index[60:], columns = cor.columns)\n",
        "port = pd.DataFrame(index=cor.index[60:], columns = cor.columns)\n",
        "_lyears = len(years)-5\n"
      ],
      "execution_count": null,
      "outputs": []
    },
    {
      "cell_type": "code",
      "metadata": {
        "scrolled": true,
        "id": "khYZa18ZmOpG",
        "colab_type": "code",
        "colab": {}
      },
      "source": [
        "def get_beta(f):\n",
        "    \n",
        "    _time = time.time()\n",
        "    #擷取形成期\n",
        "    t = 0 #自第0期開始 擷取5年的資料，將資料整理後指派給 \"_[年份]\"\n",
        "    for t in range (_lyears):\n",
        "    #for t in range (5):\n",
        "        globals()['_%s'%(years[t])] = _data(cor.iloc[12*t:12*(t+6)]).iloc[:60]\n",
        "\n",
        "        #計算相關係數\n",
        "        #指派給\"_[年份]_cor\"\n",
        "        globals()['_%s_cor'%(years[t])] = globals()['_%s'%(years[t])].corr()\n",
        "\n",
        "        #取出期間公司列表\n",
        "        globals()['_%s_firms'%(years[t])] = globals()['_%s_cor'%(years[t])].columns\n",
        "\n",
        "        lf = len(globals()['_%s_firms'%(years[t])])\n",
        "        for firm in range(lf):\n",
        "            #該公司前50大相關\n",
        "            #指派給\"_[年份]_[firm]_f\"\n",
        "            globals()['_%s_%s_%s'%(years[t], globals()['_%s_firms'%(years[t])][firm],str(f))] = \\\n",
        "            globals()['_%s_cor'%(years[t])][globals()['_%s_firms'%(years[t])][firm]].sort_values(ascending=False).index[1:f+1]\n",
        "\n",
        "            #設立月報酬表格\n",
        "            #指派給\"_[年份]_[firm]\"\n",
        "            globals()['_%s_%s'%(years[t], globals()['_%s_firms'%(years[t])][firm])] = \\\n",
        "            globals()['_%s'%(years[t])][globals()['_%s_%s_%s'%(years[t], globals()['_%s_firms'%(years[t])][firm],str(f))]]\n",
        "\n",
        "            #計算投資組合報酬\n",
        "            globals()['_%s_%s'%(years[t],globals()['_%s_firms'%(years[t])][firm])]['%s_port'%(globals()['_%s_firms'%(years[t])][firm])] = \\\n",
        "            globals()['_%s_%s'%(years[t],globals()['_%s_firms'%(years[t])][firm])].sum(axis = 1)/f\n",
        "\n",
        "            #計算beta並寫入df_beta中\n",
        "            beta.loc[years[t+5],globals()['_%s_firms'%(years[t])][firm]] = \\\n",
        "            sm.OLS\\\n",
        "            (globals()['_%s'%(years[t])][globals()['_%s_firms'%(years[t])][firm]],\\\n",
        "            sm.add_constant(globals()['_%s_%s'%(years[t], globals()['_%s_firms'%(years[t])][firm])]['%s_port'%(globals()['_%s_firms'%(years[t])][firm])]))\\\n",
        "            .fit().params[1]\n",
        "    \n",
        "    print ('beta 計算時間：%.4f s'%(time.time()-_time))"
      ],
      "execution_count": null,
      "outputs": []
    },
    {
      "cell_type": "code",
      "metadata": {
        "id": "wOfo_RWZmOpJ",
        "colab_type": "code",
        "colab": {}
      },
      "source": [
        "port = pd.DataFrame(index=cor.index[60:], columns = cor.columns)\n",
        "dates = cor.index\n",
        "\n",
        "\n",
        "def form_port(f):\n",
        "    _time = time.time()\n",
        "    \n",
        "    for t in range(_lyears): #t==0\n",
        "        _lfirms = len(globals()['_%s_firms'%(years[t])]) #_lfirms==lens of _1990_firms \n",
        "        a=(t+5)*12\n",
        "        b=(t+6)*12\n",
        "        for date in range (a,b): #date== 60\n",
        "            for firm in range(_lfirms): #firm == 1101\n",
        "                port.at[dates[date],globals()['_%s_firms'%(years[t])][firm]]=0 #(1995-01,1101)=0\n",
        "                for p in range(f): #(1995-01,1101)=port\n",
        "                    port.at[dates[date],globals()['_%s_firms'%(years[t])][firm]] += \\\n",
        "                    cor.loc[dates[date]][globals()['_%s_%s_%s'%(years[t],globals()['_%s_firms'%(years[t])][firm],str(f))][p]]/f\n",
        "\n",
        "    print ('基準投組運算時間：%.4f s'%(time.time()-_time))"
      ],
      "execution_count": null,
      "outputs": []
    },
    {
      "cell_type": "code",
      "metadata": {
        "id": "57E_rE09mOpM",
        "colab_type": "code",
        "colab": {}
      },
      "source": [
        "rf = _index(pd.read_csv(url+'mktrf.csv'))[['rf']].loc[port.index[0]:]/12\n",
        "retdiff = pd.DataFrame(index=port.index, columns = port.columns)\n",
        "fret = cor.iloc[60:]"
      ],
      "execution_count": null,
      "outputs": []
    },
    {
      "cell_type": "code",
      "metadata": {
        "id": "du8GyB91mOpO",
        "colab_type": "code",
        "colab": {}
      },
      "source": [
        "def _retdiff(f):\n",
        "    _time = time.time()\n",
        "    ly = len(retdiff.index)\n",
        "    lx = len(retdiff.columns)\n",
        "    \n",
        "    for y in range(ly):\n",
        "        _y = int(y/12)\n",
        "        for x in range(lx):\n",
        "            retdiff.iat[y,x] = beta.iat[_y,x]*(port.iat[y,x]-rf.iat[y,0])-(fret.iat[y,x]-rf.iat[y,0])\n",
        "    print ('RetDiff 運算時間：%.4f s'%(time.time()-_time))"
      ],
      "execution_count": null,
      "outputs": []
    },
    {
      "cell_type": "code",
      "metadata": {
        "id": "EIRL6ydOmOpS",
        "colab_type": "code",
        "colab": {},
        "outputId": "322488e8-d561-4015-997b-885e0d489fd6"
      },
      "source": [
        "if __name__ == '__main__':\n",
        "    f = 15\n",
        "    get_beta(f)\n",
        "    form_port(f)\n",
        "    _retdiff(f)"
      ],
      "execution_count": null,
      "outputs": [
        {
          "output_type": "stream",
          "text": [
            "/opt/anaconda3/lib/python3.7/site-packages/ipykernel_launcher.py:31: SettingWithCopyWarning: \n",
            "A value is trying to be set on a copy of a slice from a DataFrame.\n",
            "Try using .loc[row_indexer,col_indexer] = value instead\n",
            "\n",
            "See the caveats in the documentation: https://pandas.pydata.org/pandas-docs/stable/user_guide/indexing.html#returning-a-view-versus-a-copy\n"
          ],
          "name": "stderr"
        },
        {
          "output_type": "stream",
          "text": [
            "beta 計算時間：153.7515 s\n",
            "基準投組運算時間：703.2088 s\n",
            "RetDiff 運算時間：32.6833 s\n"
          ],
          "name": "stdout"
        }
      ]
    },
    {
      "cell_type": "code",
      "metadata": {
        "id": "VszbADpOmOpV",
        "colab_type": "code",
        "colab": {},
        "outputId": "245432c5-76b6-471e-a3dc-1de10c7943fb"
      },
      "source": [
        "False in port.columns==beta.columns"
      ],
      "execution_count": null,
      "outputs": [
        {
          "output_type": "execute_result",
          "data": {
            "text/plain": [
              "False"
            ]
          },
          "metadata": {
            "tags": []
          },
          "execution_count": 9
        }
      ]
    },
    {
      "cell_type": "code",
      "metadata": {
        "id": "Qf4cYcGtmOpX",
        "colab_type": "code",
        "colab": {},
        "outputId": "9f5a5a53-a097-43b7-abcc-a12d2d1cfdbf"
      },
      "source": [
        "len(_2000_1101_15)"
      ],
      "execution_count": null,
      "outputs": [
        {
          "output_type": "execute_result",
          "data": {
            "text/plain": [
              "15"
            ]
          },
          "metadata": {
            "tags": []
          },
          "execution_count": 10
        }
      ]
    },
    {
      "cell_type": "code",
      "metadata": {
        "id": "rVG7zz32mOpa",
        "colab_type": "code",
        "colab": {}
      },
      "source": [
        "#retdiff.to_csv(url+'retdiff_15.csv')\n",
        "port.to_csv(url+'port15.csv')"
      ],
      "execution_count": null,
      "outputs": []
    },
    {
      "cell_type": "code",
      "metadata": {
        "id": "CMIv0crsmOpc",
        "colab_type": "code",
        "colab": {}
      },
      "source": [
        "def res_test(year,_t,firm,f):\n",
        "    print('FFTTTT is Fine')\n",
        "    print(False in (fret.index==rf.index) & (port.index==retdiff.index) & (port.index==rf.index))\n",
        "    print(False in (fret.columns==beta.columns) & (port.columns==retdiff.columns) & (port.columns==beta.columns))\n",
        "    print((len(fret.columns)==len(beta.columns)) & (len(port.columns)==len(retdiff.columns)) & (len(port.columns)==len(beta.columns)))\n",
        "    print((len(fret.index)==len(beta.index)*12) & (len(port.index)==len(retdiff.index)) & (len(port.index)==len(rf.index)))\n",
        "    print((retdiff.at[_t,'%s'%(firm)])==(beta.at['%s'%(year),'%s'%(firm)]*(port.at[_t,'%s'%(firm)]-rf.at[_t,'rf'])-(fret.at[_t,'%s'%(firm)]-rf.at[_t,'rf'])))\n",
        "    print((port.at[_t,'%s'%(firm)])==(cor.loc[_t][globals()['_%s_%s_%s'%(year-5,firm,f)]].sum()/f))\n",
        "    "
      ],
      "execution_count": null,
      "outputs": []
    },
    {
      "cell_type": "code",
      "metadata": {
        "id": "fPCuUUxnmOpe",
        "colab_type": "code",
        "colab": {},
        "outputId": "76481d08-b3ec-4b51-bb56-8186e20c7830"
      },
      "source": [
        "res_test(2015,'2015-09',2337,15)"
      ],
      "execution_count": null,
      "outputs": [
        {
          "output_type": "stream",
          "text": [
            "FFTTTT is Fine\n",
            "False\n",
            "False\n",
            "True\n",
            "True\n",
            "True\n",
            "False\n"
          ],
          "name": "stdout"
        }
      ]
    }
  ]
}